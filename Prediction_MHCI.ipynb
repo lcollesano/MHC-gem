{
 "cells": [
  {
   "cell_type": "code",
   "execution_count": 1,
   "id": "88ebdd24",
   "metadata": {},
   "outputs": [],
   "source": [
    "import pandas as pd\n",
    "import matplotlib.pyplot as plt\n",
    "import numpy as np\n",
    "import operator\n",
    "import random\n",
    "from scipy.optimize import minimize\n",
    "import seaborn as sns"
   ]
  },
  {
   "cell_type": "code",
   "execution_count": 2,
   "id": "8dbe2211",
   "metadata": {},
   "outputs": [],
   "source": [
    "aminos=['R','H','K','D','E','S','T', 'N', 'Q', 'C','G', 'P','A','V','I','L', 'M', 'F','Y','W']\n",
    "\n",
    "\n",
    "#AMINO VECTORS OF 0 AND 1 FOR MATRIX MULTIPLICATION AMINOVECTOR - ENERGY MATRIX\n",
    "\n",
    "for i in range(len(aminos)):\n",
    "    k = aminos[i]  \n",
    "    locals()[str(k)+'_vec']= np.empty(20)\n",
    "    for j in range(20):\n",
    "        if j == i:\n",
    "            locals()[str(k)+'_vec'][j] = 1\n",
    "        else:\n",
    "            locals()[str(k)+'_vec'][j] = 0"
   ]
  },
  {
   "cell_type": "code",
   "execution_count": 7,
   "id": "e25a8b9c",
   "metadata": {},
   "outputs": [],
   "source": [
    "for i in range(len(aminos)):\n",
    "    k = aminos[i]  \n",
    "    locals()[str(k)+'_vec']= np.empty(20)\n",
    "    for j in range(20):\n",
    "        if j == i:\n",
    "            locals()[str(k)+'_vec'][j] = 1\n",
    "        else:\n",
    "            locals()[str(k)+'_vec'][j] = 0\n",
    "\n",
    "def calc_energy(pep):\n",
    "    all_pep =[]\n",
    "    for k in range(len(pep)):\n",
    "        vec =[]\n",
    "        for i in range(len(pep[k])):\n",
    "            for j in aminos:\n",
    "                if pep[k][i] == j:\n",
    "                    vec.append(globals()[str(j)+'_vec'])\n",
    "        newpep = (np.array(vec).T)\n",
    "        #energy.append(sum(en))\n",
    "        all_pep.append(newpep)\n",
    "        \n",
    "    return np.array(all_pep)\n",
    "\n",
    "def quadratic(pep, Table, Coeff):\n",
    "    lambd = Coeff\n",
    "    aa=calc_energy(pep)\n",
    "    F_lin = []\n",
    "    for i in range(len(pep)):\n",
    "        kd = np.sum(aa[i]*Table)\n",
    "        res= kd + lambd*kd**2\n",
    "        F_lin.append(float(res))\n",
    "        \n",
    "    return F_lin\n",
    "\n",
    "\n",
    "def linear(pep, Table):\n",
    "    aa=calc_energy(pep)\n",
    "    F_lin = []\n",
    "    for i in range(len(pep)):\n",
    "        kd = np.sum(aa[i]*Table)\n",
    "        res= kd \n",
    "        F_lin.append(float(res))\n",
    "        \n",
    "    return F_lin"
   ]
  },
  {
   "cell_type": "code",
   "execution_count": 17,
   "id": "7ece96d6",
   "metadata": {},
   "outputs": [],
   "source": [
    "allele = 'DRB10101'\n",
    "\n",
    "EM = pd.read_csv('Tables_for_paper/Linear_em_'+str(allele)+'.csv')\n",
    "EM = EM.drop(['AA'],axis=1).to_numpy()\n",
    "EM = EM.reshape((20,9))"
   ]
  },
  {
   "cell_type": "markdown",
   "id": "82529c9b",
   "metadata": {},
   "source": [
    "## Import matrix - select allele"
   ]
  },
  {
   "cell_type": "code",
   "execution_count": 43,
   "id": "3ee54187",
   "metadata": {},
   "outputs": [],
   "source": [
    "allele = '0702'\n",
    "\n",
    "EM = pd.read_csv('Tables_for_paper/Global_em_'+str(allele)+'.csv')\n",
    "EM = EM.drop(['AA'],axis=1).to_numpy()\n",
    "EM = EM.reshape((20,9))\n",
    "\n",
    "if allele == '1101':\n",
    "    lambd= -0.041887053950741604\n",
    "if allele == '0201':\n",
    "    lambd= -0.04019313815831509\n",
    "if allele == '0702':\n",
    "    lambd= -0.04328069223031524"
   ]
  },
  {
   "cell_type": "markdown",
   "id": "2ec0af9a",
   "metadata": {},
   "source": [
    "## Run for sequences. Needed: list of sequences."
   ]
  },
  {
   "cell_type": "code",
   "execution_count": 48,
   "id": "4dfa29f2",
   "metadata": {},
   "outputs": [
    {
     "data": {
      "text/plain": [
       "[2.200679386253235, 5.701497221889986]"
      ]
     },
     "execution_count": 48,
     "metadata": {},
     "output_type": "execute_result"
    }
   ],
   "source": [
    "quadratic(['AAFSGHLPW','QQRRRTTYP'], EM, lambd)"
   ]
  },
  {
   "cell_type": "code",
   "execution_count": 18,
   "id": "4945993e",
   "metadata": {},
   "outputs": [
    {
     "data": {
      "text/plain": [
       "[1.8341, -1.4468999999999999]"
      ]
     },
     "execution_count": 18,
     "metadata": {},
     "output_type": "execute_result"
    }
   ],
   "source": [
    "linear(['AAFSGHLPW','AFLIVVNMS'], EM)"
   ]
  },
  {
   "cell_type": "code",
   "execution_count": null,
   "id": "1f167082",
   "metadata": {},
   "outputs": [],
   "source": []
  }
 ],
 "metadata": {
  "kernelspec": {
   "display_name": "Python 3 (ipykernel)",
   "language": "python",
   "name": "python3"
  },
  "language_info": {
   "codemirror_mode": {
    "name": "ipython",
    "version": 3
   },
   "file_extension": ".py",
   "mimetype": "text/x-python",
   "name": "python",
   "nbconvert_exporter": "python",
   "pygments_lexer": "ipython3",
   "version": "3.11.3"
  }
 },
 "nbformat": 4,
 "nbformat_minor": 5
}
